{
 "cells": [
  {
   "cell_type": "code",
   "execution_count": 164,
   "id": "91b86ffa",
   "metadata": {
    "scrolled": true
   },
   "outputs": [
    {
     "data": {
      "text/html": [
       "<div>\n",
       "<style scoped>\n",
       "    .dataframe tbody tr th:only-of-type {\n",
       "        vertical-align: middle;\n",
       "    }\n",
       "\n",
       "    .dataframe tbody tr th {\n",
       "        vertical-align: top;\n",
       "    }\n",
       "\n",
       "    .dataframe thead th {\n",
       "        text-align: right;\n",
       "    }\n",
       "</style>\n",
       "<table border=\"1\" class=\"dataframe\">\n",
       "  <thead>\n",
       "    <tr style=\"text-align: right;\">\n",
       "      <th></th>\n",
       "      <th>Pregnancies</th>\n",
       "      <th>Glucose</th>\n",
       "      <th>BloodPressure</th>\n",
       "      <th>SkinThickness</th>\n",
       "      <th>Insulin</th>\n",
       "      <th>BMI</th>\n",
       "      <th>DiabetesPedigreeFunction</th>\n",
       "      <th>Age</th>\n",
       "      <th>Outcome</th>\n",
       "    </tr>\n",
       "  </thead>\n",
       "  <tbody>\n",
       "    <tr>\n",
       "      <th>0</th>\n",
       "      <td>6</td>\n",
       "      <td>148</td>\n",
       "      <td>72</td>\n",
       "      <td>35</td>\n",
       "      <td>0</td>\n",
       "      <td>33.6</td>\n",
       "      <td>0.627</td>\n",
       "      <td>50</td>\n",
       "      <td>1</td>\n",
       "    </tr>\n",
       "    <tr>\n",
       "      <th>1</th>\n",
       "      <td>1</td>\n",
       "      <td>85</td>\n",
       "      <td>66</td>\n",
       "      <td>29</td>\n",
       "      <td>0</td>\n",
       "      <td>26.6</td>\n",
       "      <td>0.351</td>\n",
       "      <td>31</td>\n",
       "      <td>0</td>\n",
       "    </tr>\n",
       "    <tr>\n",
       "      <th>2</th>\n",
       "      <td>8</td>\n",
       "      <td>183</td>\n",
       "      <td>64</td>\n",
       "      <td>0</td>\n",
       "      <td>0</td>\n",
       "      <td>23.3</td>\n",
       "      <td>0.672</td>\n",
       "      <td>32</td>\n",
       "      <td>1</td>\n",
       "    </tr>\n",
       "    <tr>\n",
       "      <th>3</th>\n",
       "      <td>1</td>\n",
       "      <td>89</td>\n",
       "      <td>66</td>\n",
       "      <td>23</td>\n",
       "      <td>94</td>\n",
       "      <td>28.1</td>\n",
       "      <td>0.167</td>\n",
       "      <td>21</td>\n",
       "      <td>0</td>\n",
       "    </tr>\n",
       "    <tr>\n",
       "      <th>4</th>\n",
       "      <td>0</td>\n",
       "      <td>137</td>\n",
       "      <td>40</td>\n",
       "      <td>35</td>\n",
       "      <td>168</td>\n",
       "      <td>43.1</td>\n",
       "      <td>2.288</td>\n",
       "      <td>33</td>\n",
       "      <td>1</td>\n",
       "    </tr>\n",
       "  </tbody>\n",
       "</table>\n",
       "</div>"
      ],
      "text/plain": [
       "   Pregnancies  Glucose  BloodPressure  SkinThickness  Insulin   BMI  \\\n",
       "0            6      148             72             35        0  33.6   \n",
       "1            1       85             66             29        0  26.6   \n",
       "2            8      183             64              0        0  23.3   \n",
       "3            1       89             66             23       94  28.1   \n",
       "4            0      137             40             35      168  43.1   \n",
       "\n",
       "   DiabetesPedigreeFunction  Age  Outcome  \n",
       "0                     0.627   50        1  \n",
       "1                     0.351   31        0  \n",
       "2                     0.672   32        1  \n",
       "3                     0.167   21        0  \n",
       "4                     2.288   33        1  "
      ]
     },
     "execution_count": 164,
     "metadata": {},
     "output_type": "execute_result"
    }
   ],
   "source": [
    "\"\"\"\n",
    "NAMA : MAULANA MUHAMMAD\n",
    "TUGAS KNN + FEATURE SELECTION\n",
    "\"\"\"\n",
    "\n",
    "import pandas as pd\n",
    "import numpy as np\n",
    "import matplotlib.pyplot as plt\n",
    "\n",
    "df = pd.read_csv(\"diabetes.csv\")\n",
    "df.head()"
   ]
  },
  {
   "cell_type": "code",
   "execution_count": 165,
   "id": "99662102",
   "metadata": {},
   "outputs": [
    {
     "data": {
      "text/html": [
       "<div>\n",
       "<style scoped>\n",
       "    .dataframe tbody tr th:only-of-type {\n",
       "        vertical-align: middle;\n",
       "    }\n",
       "\n",
       "    .dataframe tbody tr th {\n",
       "        vertical-align: top;\n",
       "    }\n",
       "\n",
       "    .dataframe thead th {\n",
       "        text-align: right;\n",
       "    }\n",
       "</style>\n",
       "<table border=\"1\" class=\"dataframe\">\n",
       "  <thead>\n",
       "    <tr style=\"text-align: right;\">\n",
       "      <th></th>\n",
       "      <th>Glucose</th>\n",
       "      <th>Insulin</th>\n",
       "      <th>DiabetesPedigreeFunction</th>\n",
       "      <th>Age</th>\n",
       "      <th>Outcome</th>\n",
       "    </tr>\n",
       "  </thead>\n",
       "  <tbody>\n",
       "    <tr>\n",
       "      <th>0</th>\n",
       "      <td>148</td>\n",
       "      <td>0</td>\n",
       "      <td>0.627</td>\n",
       "      <td>50</td>\n",
       "      <td>1</td>\n",
       "    </tr>\n",
       "    <tr>\n",
       "      <th>1</th>\n",
       "      <td>85</td>\n",
       "      <td>0</td>\n",
       "      <td>0.351</td>\n",
       "      <td>31</td>\n",
       "      <td>0</td>\n",
       "    </tr>\n",
       "    <tr>\n",
       "      <th>2</th>\n",
       "      <td>183</td>\n",
       "      <td>0</td>\n",
       "      <td>0.672</td>\n",
       "      <td>32</td>\n",
       "      <td>1</td>\n",
       "    </tr>\n",
       "    <tr>\n",
       "      <th>3</th>\n",
       "      <td>89</td>\n",
       "      <td>94</td>\n",
       "      <td>0.167</td>\n",
       "      <td>21</td>\n",
       "      <td>0</td>\n",
       "    </tr>\n",
       "    <tr>\n",
       "      <th>4</th>\n",
       "      <td>137</td>\n",
       "      <td>168</td>\n",
       "      <td>2.288</td>\n",
       "      <td>33</td>\n",
       "      <td>1</td>\n",
       "    </tr>\n",
       "    <tr>\n",
       "      <th>...</th>\n",
       "      <td>...</td>\n",
       "      <td>...</td>\n",
       "      <td>...</td>\n",
       "      <td>...</td>\n",
       "      <td>...</td>\n",
       "    </tr>\n",
       "    <tr>\n",
       "      <th>762</th>\n",
       "      <td>89</td>\n",
       "      <td>0</td>\n",
       "      <td>0.142</td>\n",
       "      <td>33</td>\n",
       "      <td>0</td>\n",
       "    </tr>\n",
       "    <tr>\n",
       "      <th>763</th>\n",
       "      <td>101</td>\n",
       "      <td>180</td>\n",
       "      <td>0.171</td>\n",
       "      <td>63</td>\n",
       "      <td>0</td>\n",
       "    </tr>\n",
       "    <tr>\n",
       "      <th>764</th>\n",
       "      <td>122</td>\n",
       "      <td>0</td>\n",
       "      <td>0.340</td>\n",
       "      <td>27</td>\n",
       "      <td>0</td>\n",
       "    </tr>\n",
       "    <tr>\n",
       "      <th>765</th>\n",
       "      <td>121</td>\n",
       "      <td>112</td>\n",
       "      <td>0.245</td>\n",
       "      <td>30</td>\n",
       "      <td>0</td>\n",
       "    </tr>\n",
       "    <tr>\n",
       "      <th>766</th>\n",
       "      <td>126</td>\n",
       "      <td>0</td>\n",
       "      <td>0.349</td>\n",
       "      <td>47</td>\n",
       "      <td>1</td>\n",
       "    </tr>\n",
       "  </tbody>\n",
       "</table>\n",
       "<p>767 rows × 5 columns</p>\n",
       "</div>"
      ],
      "text/plain": [
       "     Glucose  Insulin  DiabetesPedigreeFunction  Age  Outcome\n",
       "0        148        0                     0.627   50        1\n",
       "1         85        0                     0.351   31        0\n",
       "2        183        0                     0.672   32        1\n",
       "3         89       94                     0.167   21        0\n",
       "4        137      168                     2.288   33        1\n",
       "..       ...      ...                       ...  ...      ...\n",
       "762       89        0                     0.142   33        0\n",
       "763      101      180                     0.171   63        0\n",
       "764      122        0                     0.340   27        0\n",
       "765      121      112                     0.245   30        0\n",
       "766      126        0                     0.349   47        1\n",
       "\n",
       "[767 rows x 5 columns]"
      ]
     },
     "execution_count": 165,
     "metadata": {},
     "output_type": "execute_result"
    }
   ],
   "source": [
    "df.drop(columns=[\"Pregnancies\", \"BloodPressure\", \"SkinThickness\", \"BMI\"], inplace=True)\n",
    "df.dropna(inplace=True)\n",
    "df"
   ]
  },
  {
   "cell_type": "code",
   "execution_count": 166,
   "id": "566c7437",
   "metadata": {
    "scrolled": false
   },
   "outputs": [
    {
     "data": {
      "text/plain": [
       "<AxesSubplot:xlabel='Outcome', ylabel='Glucose'>"
      ]
     },
     "execution_count": 166,
     "metadata": {},
     "output_type": "execute_result"
    },
    {
     "data": {
      "image/png": "[encoded data removed]",
      "text/plain": [
       "<Figure size 432x288 with 1 Axes>"
      ]
     },
     "metadata": {
      "needs_background": "light"
     },
     "output_type": "display_data"
    }
   ],
   "source": [
    "import seaborn as sns\n",
    "sns.barplot(x=\"Outcome\", y=\"Glucose\", data=df, ci=None)"
   ]
  },
  {
   "cell_type": "code",
   "execution_count": 167,
   "id": "41748d9f",
   "metadata": {},
   "outputs": [
    {
     "data": {
      "text/plain": [
       "<AxesSubplot:xlabel='Outcome', ylabel='Insulin'>"
      ]
     },
     "execution_count": 167,
     "metadata": {},
     "output_type": "execute_result"
    },
    {
     "data": {
      "image/png": "[encoded data removed]",
      "text/plain": [
       "<Figure size 432x288 with 1 Axes>"
      ]
     },
     "metadata": {
      "needs_background": "light"
     },
     "output_type": "display_data"
    }
   ],
   "source": [
    "sns.barplot(x='Outcome', y='Insulin', data=df, ci=None)"
   ]
  },
  {
   "cell_type": "code",
   "execution_count": 168,
   "id": "eaa66eca",
   "metadata": {},
   "outputs": [
    {
     "data": {
      "text/plain": [
       "<AxesSubplot:xlabel='Outcome', ylabel='DiabetesPedigreeFunction'>"
      ]
     },
     "execution_count": 168,
     "metadata": {},
     "output_type": "execute_result"
    },
    {
     "data": {
      "image/png": "[encoded data removed]",
      "text/plain": [
       "<Figure size 432x288 with 1 Axes>"
      ]
     },
     "metadata": {
      "needs_background": "light"
     },
     "output_type": "display_data"
    }
   ],
   "source": [
    "sns.barplot(x='Outcome', y='DiabetesPedigreeFunction', data=df, ci=None)"
   ]
  },
  {
   "cell_type": "code",
   "execution_count": 169,
   "id": "a4b91f7b",
   "metadata": {},
   "outputs": [
    {
     "data": {
      "text/plain": [
       "<AxesSubplot:xlabel='Outcome', ylabel='Age'>"
      ]
     },
     "execution_count": 169,
     "metadata": {},
     "output_type": "execute_result"
    },
    {
     "data": {
      "image/png": "[encoded data removed]",
      "text/plain": [
       "<Figure size 432x288 with 1 Axes>"
      ]
     },
     "metadata": {
      "needs_background": "light"
     },
     "output_type": "display_data"
    }
   ],
   "source": [
    "sns.barplot(x='Outcome', y='Age', data=df, ci=None)"
   ]
  },
  {
   "cell_type": "code",
   "execution_count": 170,
   "id": "204017f3",
   "metadata": {
    "scrolled": false
   },
   "outputs": [
    {
     "data": {
      "text/html": [
       "<div>\n",
       "<style scoped>\n",
       "    .dataframe tbody tr th:only-of-type {\n",
       "        vertical-align: middle;\n",
       "    }\n",
       "\n",
       "    .dataframe tbody tr th {\n",
       "        vertical-align: top;\n",
       "    }\n",
       "\n",
       "    .dataframe thead th {\n",
       "        text-align: right;\n",
       "    }\n",
       "</style>\n",
       "<table border=\"1\" class=\"dataframe\">\n",
       "  <thead>\n",
       "    <tr style=\"text-align: right;\">\n",
       "      <th></th>\n",
       "      <th>Glucose</th>\n",
       "      <th>Insulin</th>\n",
       "      <th>DiabetesPedigreeFunction</th>\n",
       "      <th>Age</th>\n",
       "    </tr>\n",
       "  </thead>\n",
       "  <tbody>\n",
       "    <tr>\n",
       "      <th>0</th>\n",
       "      <td>148</td>\n",
       "      <td>0</td>\n",
       "      <td>0.627</td>\n",
       "      <td>50</td>\n",
       "    </tr>\n",
       "    <tr>\n",
       "      <th>1</th>\n",
       "      <td>85</td>\n",
       "      <td>0</td>\n",
       "      <td>0.351</td>\n",
       "      <td>31</td>\n",
       "    </tr>\n",
       "    <tr>\n",
       "      <th>2</th>\n",
       "      <td>183</td>\n",
       "      <td>0</td>\n",
       "      <td>0.672</td>\n",
       "      <td>32</td>\n",
       "    </tr>\n",
       "    <tr>\n",
       "      <th>3</th>\n",
       "      <td>89</td>\n",
       "      <td>94</td>\n",
       "      <td>0.167</td>\n",
       "      <td>21</td>\n",
       "    </tr>\n",
       "    <tr>\n",
       "      <th>4</th>\n",
       "      <td>137</td>\n",
       "      <td>168</td>\n",
       "      <td>2.288</td>\n",
       "      <td>33</td>\n",
       "    </tr>\n",
       "    <tr>\n",
       "      <th>...</th>\n",
       "      <td>...</td>\n",
       "      <td>...</td>\n",
       "      <td>...</td>\n",
       "      <td>...</td>\n",
       "    </tr>\n",
       "    <tr>\n",
       "      <th>762</th>\n",
       "      <td>89</td>\n",
       "      <td>0</td>\n",
       "      <td>0.142</td>\n",
       "      <td>33</td>\n",
       "    </tr>\n",
       "    <tr>\n",
       "      <th>763</th>\n",
       "      <td>101</td>\n",
       "      <td>180</td>\n",
       "      <td>0.171</td>\n",
       "      <td>63</td>\n",
       "    </tr>\n",
       "    <tr>\n",
       "      <th>764</th>\n",
       "      <td>122</td>\n",
       "      <td>0</td>\n",
       "      <td>0.340</td>\n",
       "      <td>27</td>\n",
       "    </tr>\n",
       "    <tr>\n",
       "      <th>765</th>\n",
       "      <td>121</td>\n",
       "      <td>112</td>\n",
       "      <td>0.245</td>\n",
       "      <td>30</td>\n",
       "    </tr>\n",
       "    <tr>\n",
       "      <th>766</th>\n",
       "      <td>126</td>\n",
       "      <td>0</td>\n",
       "      <td>0.349</td>\n",
       "      <td>47</td>\n",
       "    </tr>\n",
       "  </tbody>\n",
       "</table>\n",
       "<p>767 rows × 4 columns</p>\n",
       "</div>"
      ],
      "text/plain": [
       "     Glucose  Insulin  DiabetesPedigreeFunction  Age\n",
       "0        148        0                     0.627   50\n",
       "1         85        0                     0.351   31\n",
       "2        183        0                     0.672   32\n",
       "3         89       94                     0.167   21\n",
       "4        137      168                     2.288   33\n",
       "..       ...      ...                       ...  ...\n",
       "762       89        0                     0.142   33\n",
       "763      101      180                     0.171   63\n",
       "764      122        0                     0.340   27\n",
       "765      121      112                     0.245   30\n",
       "766      126        0                     0.349   47\n",
       "\n",
       "[767 rows x 4 columns]"
      ]
     },
     "execution_count": 170,
     "metadata": {},
     "output_type": "execute_result"
    }
   ],
   "source": [
    "#X = Featurs ; Y = Class\n",
    "X=df.iloc[:,:4]\n",
    "X"
   ]
  },
  {
   "cell_type": "code",
   "execution_count": 171,
   "id": "87775afa",
   "metadata": {
    "scrolled": true
   },
   "outputs": [
    {
     "data": {
      "text/plain": [
       "0      1\n",
       "1      0\n",
       "2      1\n",
       "3      0\n",
       "4      1\n",
       "      ..\n",
       "762    0\n",
       "763    0\n",
       "764    0\n",
       "765    0\n",
       "766    1\n",
       "Name: Outcome, Length: 767, dtype: int64"
      ]
     },
     "execution_count": 171,
     "metadata": {},
     "output_type": "execute_result"
    }
   ],
   "source": [
    "Y = df.iloc[:,4]\n",
    "Y"
   ]
  },
  {
   "cell_type": "code",
   "execution_count": 172,
   "id": "5bd6a375",
   "metadata": {},
   "outputs": [
    {
     "name": "stdout",
     "output_type": "stream",
     "text": [
      "Num Features: 2\n",
      "Selected Features: [ True False  True False]\n",
      "Feature Ranking: [1 3 1 2]\n",
      "                       Attr  Score\n",
      "0                   Glucose   True\n",
      "2  DiabetesPedigreeFunction   True\n",
      "1                   Insulin  False\n",
      "3                       Age  False\n"
     ]
    }
   ],
   "source": [
    "#Metode Wrapp -> RFE\n",
    "from sklearn.feature_selection import RFE\n",
    "from sklearn.linear_model import LogisticRegression\n",
    "\n",
    "model = LogisticRegression()\n",
    "rfe = RFE(model)\n",
    "fit = rfe.fit(X,Y)\n",
    "\n",
    "print(\"Num Features: %s\" %(fit.n_features_))\n",
    "print(\"Selected Features: %s\" %(fit.support_))\n",
    "print(\"Feature Ranking: %s\" %(fit.ranking_))\n",
    "\n",
    "dfscores = pd.DataFrame(fit.support_)\n",
    "dfcolumns = pd.DataFrame(X.columns)\n",
    "featureScores = pd.concat([dfcolumns, dfscores], axis=1)\n",
    "featureScores.columns=[\"Attr\", \"Score\"]\n",
    "print(featureScores.nlargest(7,'Score'))"
   ]
  },
  {
   "cell_type": "code",
   "execution_count": 173,
   "id": "a8f98de0",
   "metadata": {},
   "outputs": [
    {
     "name": "stdout",
     "output_type": "stream",
     "text": [
      "613\n",
      "154\n"
     ]
    }
   ],
   "source": [
    "from sklearn.model_selection import train_test_split\n",
    "X_train, X_test, y_train, y_test = train_test_split(X,Y, test_size=0.2)\n",
    "print(len(X_train))\n",
    "print(len(X_test))"
   ]
  },
  {
   "cell_type": "code",
   "execution_count": 174,
   "id": "f7301f97",
   "metadata": {},
   "outputs": [
    {
     "name": "stdout",
     "output_type": "stream",
     "text": [
      "[[-0.13558616 -0.68391029 -0.87904409 -0.86736368]\n",
      " [ 0.07784019 -0.68391029 -0.84968371 -0.35620143]\n",
      " [ 1.14497193 -0.68391029 -0.67352141  0.9217042 ]\n",
      " ...\n",
      " [-0.80635469 -0.68391029 -0.99354958 -1.0377511 ]\n",
      " [-1.20271791 -0.34231735 -0.59718442 -0.78216997]\n",
      " [-0.19656512 -0.68391029 -0.15971473  0.32534824]]\n",
      "[[ 0.13881914 -0.68391029 -0.98474146 -0.78216997]\n",
      " [ 0.07784019  1.36564731  1.15563038 -0.95255739]\n",
      " [ 0.71811923  0.85325791 -0.44451044  1.09209162]\n",
      " [-0.47097043  0.52874462 -0.92014862 -0.95255739]\n",
      " [-0.71488625  0.09321363  1.12920604 -0.1006203 ]\n",
      " [ 0.50469288 -0.68391029 -0.74985841  2.19960984]\n",
      " [ 0.1997981  -0.68391029 -0.87023597  1.51806017]\n",
      " [-0.62341782 -0.07758283 -0.47680686 -0.61178256]\n",
      " [ 0.04735071  0.22131098  0.67705616 -0.95255739]\n",
      " [ 0.10832966  1.06675349  1.14095019 -0.27100772]\n",
      " [-0.86733364 -0.68391029 -1.04639827 -0.78216997]\n",
      " [-0.6539073  -0.05196336 -0.60892857 -0.61178256]\n",
      " [ 1.78525097  0.67392162 -0.09218585 -0.95255739]\n",
      " [ 1.51084567  1.23754996 -0.38285363 -0.27100772]\n",
      " [-0.16607564 -0.68391029 -0.70875387  0.58092937]\n",
      " [-0.19656512  0.25547028 -0.05988943 -0.18581401]\n",
      " [ 0.74860871  0.25547028 -0.70875387  2.02922242]\n",
      " [-0.28803355 -0.68391029 -0.42102213 -0.86736368]\n",
      " [-0.53194938  0.93865614 -0.47680686  1.858835  ]\n",
      " [ 1.93769837 -0.68391029 -0.38578967  0.66612308]\n",
      " [-0.44048095 -0.68391029 -0.90546843  1.00689791]\n",
      " [-0.74537573 -0.68391029 -0.87023597 -0.44139514]\n",
      " [-0.28803355 -0.68391029 -0.65003311  1.00689791]\n",
      " [-0.47097043 -0.68391029 -0.53259158 -0.78216997]\n",
      " [-0.19656512 -0.68391029 -1.05814242 -0.78216997]\n",
      " [ 0.23028758 -0.18860053  2.45042323 -0.01542659]\n",
      " [ 0.13881914  0.25547028 -0.77921879 -0.69697626]\n",
      " [ 0.65714027  3.4152049  -1.05227034  0.8365105 ]\n",
      " [ 0.77909819 -0.68391029 -0.72343406 -0.44139514]\n",
      " [-0.83684417 -0.1373616  -0.38285363 -0.86736368]\n",
      " [ 0.07784019 -0.02634389 -0.63828896 -0.44139514]\n",
      " [-0.10509668  0.55436409 -0.24485984  0.58092937]\n",
      " [ 1.48035619  0.38356763 -0.64122499 -0.18581401]\n",
      " [-1.3551653  -0.68391029 -0.89959636  0.66612308]\n",
      " [ 1.20595088  0.81055879  0.29830723  0.49573566]\n",
      " [-0.89782312 -0.68391029 -0.84087559  2.11441613]\n",
      " [-0.28803355  0.87033756 -1.02290996 -0.86736368]\n",
      " [ 1.84622993  3.6713996  -0.77628275 -0.61178256]\n",
      " [-0.04411773 -0.68391029 -1.01410185 -0.78216997]\n",
      " [ 0.50469288 -0.68391029 -0.68820161 -0.27100772]\n",
      " [ 0.77909819 -0.68391029  0.09865663  2.88115951]\n",
      " [ 0.6266508   0.4091871   0.62420747 -0.78216997]\n",
      " [-0.5014599  -0.68391029 -0.06282547  0.41054195]\n",
      " [ 0.16930862  0.23839063 -0.4034059   1.34767275]\n",
      " [-0.6539073  -0.1373616  -0.59424838 -0.27100772]\n",
      " [-0.77586521 -0.68391029  0.36877214 -0.78216997]\n",
      " [ 0.44371393  0.55436409 -0.59424838 -0.61178256]\n",
      " [ 2.21210367 -0.68391029 -0.72049803 -0.69697626]\n",
      " [-0.71488625 -0.68391029 -0.7880269  -0.27100772]\n",
      " [-0.56243886 -0.68391029  0.25133062 -1.0377511 ]\n",
      " [ 1.29741932  0.21277116 -0.64122499 -0.44139514]\n",
      " [-0.5014599  -0.68391029 -0.97886939  1.26247904]\n",
      " [ 2.05965628 -0.68391029 -1.025846    0.8365105 ]\n",
      " [-0.56243886 -0.01780407  0.02819171 -1.0377511 ]\n",
      " [ 0.26077706 -0.68391029  0.2425225   0.9217042 ]\n",
      " [ 0.16930862 -0.68391029 -0.4034059   1.17728533]\n",
      " [ 0.71811923  1.74993936 -0.10099397  2.11441613]\n",
      " [ 0.13881914  0.29816939 -0.8261954   0.66612308]\n",
      " [ 0.65714027  0.93865614  0.58897501  2.36999726]\n",
      " [ 1.29741932 -0.68391029  2.15975544 -0.01542659]\n",
      " [-1.26369686 -0.68391029 -0.26541211 -0.95255739]\n",
      " [-0.37950199  0.83617826 -0.20962738 -0.78216997]\n",
      " [ 0.38273497 -0.68391029  0.61539935  0.32534824]\n",
      " [ 0.04735071 -0.68391029 -0.42983024 -0.52658885]\n",
      " [-0.16607564 -0.68391029 -0.19201115 -1.0377511 ]\n",
      " [-1.3551653  -0.68391029 -0.2800923  -0.69697626]\n",
      " [ 2.33406158 -0.68391029  0.26013873  2.45519096]\n",
      " [-0.28803355 -0.68391029 -1.01410185  0.58092937]\n",
      " [ 1.17546141 -0.68391029 -0.3035806   0.24015453]\n",
      " [-1.38565478 -0.68391029 -0.65590519  0.41054195]\n",
      " [-0.89782312 -0.68391029  0.11333682 -0.95255739]\n",
      " [-0.77586521  0.85325791 -0.74398633  0.8365105 ]\n",
      " [ 0.32175601 -0.68391029 -0.85261974 -0.95255739]\n",
      " [-0.83684417 -0.68391029 -0.2037553  -0.95255739]\n",
      " [ 1.35839828 -0.68391029 -0.5413997   1.34767275]\n",
      " [ 0.07784019  1.28024907  0.72403277  0.06976712]\n",
      " [ 0.26077706  1.2887889   0.1192089  -0.18581401]\n",
      " [-0.71488625 -0.68391029  1.78687859 -0.95255739]\n",
      " [ 0.68762975 -0.16298107 -0.67645745 -1.0377511 ]\n",
      " [ 0.9010561   0.39210745  0.6036552   1.77364129]\n",
      " [-0.6539073  -0.2483793  -0.77334671 -1.0377511 ]\n",
      " [-1.11124947 -0.68391029 -0.53552762 -1.0377511 ]\n",
      " [-0.28803355 -0.68391029 -1.00822977 -0.86736368]\n",
      " [ 2.27308263  0.55436409 -0.949509    1.858835  ]\n",
      " [ 0.13881914 -0.68391029 -0.53552762  1.51806017]\n",
      " [-1.26369686 -0.36793682  0.28362704 -0.95255739]\n",
      " [-0.56243886 -0.68391029 -1.07282261 -0.1006203 ]\n",
      " [ 0.65714027 -0.68391029 -0.84087559  2.54038467]\n",
      " [ 1.6023141   3.36396596 -0.67058538 -0.95255739]\n",
      " [-0.04411773 -0.14590142 -0.60599254 -0.69697626]\n",
      " [ 0.56567184 -0.68391029 -0.24779588 -0.95255739]\n",
      " [ 1.6023141   3.28710755  4.84623039 -0.69697626]\n",
      " [ 0.35224549 -0.68391029 -0.27422022 -1.0377511 ]\n",
      " [-0.2270546   0.04197469  0.40987668 -0.69697626]\n",
      " [-0.04411773  0.76785968  0.06048813 -0.61178256]\n",
      " [ 0.4742034   0.42626674 -0.6647133   0.75131679]\n",
      " [-0.6539073  -0.30815806 -0.73811425 -0.52658885]\n",
      " [ 0.41322445  2.47582434 -0.72930614  1.09209162]\n",
      " [-0.59292834 -0.68391029 -0.4415744  -0.69697626]\n",
      " [ 0.13881914  0.74224021  1.39638551 -0.44139514]\n",
      " [-0.28803355 -0.68391029 -0.23311569 -0.52658885]\n",
      " [ 0.80958767 -0.68391029 -0.7880269   2.71077209]\n",
      " [ 1.02301401  0.17007204 -0.94657297  1.00689791]\n",
      " [-0.47097043 -0.68391029  0.74752107  2.45519096]\n",
      " [-1.01978104 -0.68391029 -1.18145602 -0.1006203 ]\n",
      " [ 1.69378254  1.87803671 -0.05695339  2.11441613]\n",
      " [-1.50761269 -0.03488372 -0.47974289 -0.95255739]\n",
      " [-0.25754408 -0.68391029  2.33591774  1.43286646]\n",
      " [-0.44048095  0.57998356  0.34821988 -0.95255739]\n",
      " [-1.08075999 -0.68391029 -0.39753382 -0.18581401]\n",
      " [ 0.38273497 -0.68391029 -0.63535292  0.49573566]\n",
      " [-0.37950199 -0.04342354 -0.65590519 -0.01542659]\n",
      " [ 0.56567184 -0.68391029 -0.93776485 -0.35620143]\n",
      " [-0.13558616  0.05905434 -0.06869755  0.32534824]\n",
      " [ 0.07784019  0.72516056  0.09865663 -0.61178256]\n",
      " [ 0.93154558  0.34086851  0.6036552  -0.44139514]\n",
      " [ 1.63280358  0.97281543  0.31298742  0.24015453]\n",
      " [ 0.10832966 -0.68391029 -0.68232953  0.24015453]\n",
      " [ 1.02301401  0.39210745 -0.43570232  0.32534824]\n",
      " [-0.37950199 -0.14590142 -0.49442308 -0.95255739]\n",
      " [-0.40999147 -0.68391029  1.08516546  0.06976712]\n",
      " [-0.34901251  0.30670922 -0.78509087 -0.95255739]\n",
      " [-1.14173895 -0.68391029 -0.49735912  0.06976712]\n",
      " [-0.89782312 -0.68391029 -0.8643639  -1.0377511 ]\n",
      " [ 0.53518236  0.74224021  0.13976117 -1.0377511 ]\n",
      " [-0.01362825  0.21277116 -0.79683502 -0.35620143]\n",
      " [ 1.6023141   0.75078003 -0.36817344 -0.01542659]\n",
      " [-0.19656512 -0.68391029  0.75632919  2.02922242]\n",
      " [ 0.13881914 -0.68391029  0.23077835  1.34767275]\n",
      " [-0.6539073  -0.53019347 -0.21843549 -1.0377511 ]\n",
      " [-0.74537573 -0.68391029 -0.82032332 -0.52658885]\n",
      " [ 0.44371393 -0.68391029  0.26894685  0.58092937]\n",
      " [ 0.07784019  0.81909862 -0.12741831  0.06976712]\n",
      " [-0.16607564 -0.68391029  1.57254781  0.06976712]\n",
      " [ 1.14497193  1.40834642  1.07048527 -0.44139514]\n",
      " [ 0.32175601  2.86011639 -0.28596437 -1.0377511 ]\n",
      " [-1.17222843 -0.68391029 -0.28596437 -0.69697626]\n",
      " [-0.6539073   0.02489505  0.03699983 -0.27100772]\n",
      " [ 0.80958767 -0.68391029 -0.37698156 -0.52658885]\n",
      " [-0.04411773 -0.25691912 -0.8261954  -0.78216997]\n",
      " [-0.47097043 -0.1032023  -1.06988657  0.32534824]\n",
      " [ 2.24259315 -0.68391029  0.75926522  0.66612308]\n",
      " [-0.28803355 -0.68391029  0.20729004 -0.27100772]\n",
      " [ 0.10832966  1.15215172 -0.95538108  0.32534824]\n",
      " [-0.95880208 -0.36793682 -0.8643639  -0.86736368]\n",
      " [-0.62341782 -0.68391029 -0.34762117 -1.0377511 ]\n",
      " [-0.47097043 -0.68391029 -0.84968371  1.09209162]\n",
      " [-0.13558616  0.21277116 -1.11392714 -0.78216997]\n",
      " [-1.11124947  0.29816939 -0.04520924 -0.44139514]\n",
      " [ 0.16930862 -0.49603417 -0.13916246  0.58092937]\n",
      " [-1.20271791 -0.12028195 -0.52965554 -0.95255739]\n",
      " [-0.25754408  0.81055879 -0.6647133   0.24015453]\n",
      " [ 0.99252454  0.51166498  2.01882561  0.49573566]\n",
      " [-0.9283126  -0.68391029  0.21316212 -1.0377511 ]]\n"
     ]
    }
   ],
   "source": [
    "#Normalisasi\n",
    "from sklearn.preprocessing import StandardScaler\n",
    "\n",
    "scaler = StandardScaler()\n",
    "scaler.fit(X_train)\n",
    "X_train = scaler.transform(X_train)\n",
    "X_test = scaler.transform(X_test)\n",
    "\n",
    "print(X_train)\n",
    "print(X_test)"
   ]
  },
  {
   "cell_type": "code",
   "execution_count": 175,
   "id": "8a02cc43",
   "metadata": {},
   "outputs": [
    {
     "data": {
      "text/plain": [
       "KNeighborsClassifier(n_neighbors=8)"
      ]
     },
     "execution_count": 175,
     "metadata": {},
     "output_type": "execute_result"
    }
   ],
   "source": [
    "#KNN\n",
    "from sklearn.neighbors import KNeighborsClassifier\n",
    "\n",
    "classifier = KNeighborsClassifier(n_neighbors=8)\n",
    "classifier.fit(X_train, y_train)"
   ]
  },
  {
   "cell_type": "code",
   "execution_count": 176,
   "id": "4c5452fb",
   "metadata": {},
   "outputs": [
    {
     "name": "stdout",
     "output_type": "stream",
     "text": [
      "[0 0 1 0 0 0 0 0 0 0 0 0 1 1 0 0 1 0 0 1 0 0 1 0 0 1 0 1 0 0 0 0 1 0 1 0 0\n",
      " 0 0 0 0 0 0 1 0 0 1 1 0 0 1 0 1 0 1 0 1 0 1 1 0 0 1 0 0 0 0 0 0 0 0 0 0 0\n",
      " 1 1 0 0 0 1 0 0 0 1 1 0 0 0 0 0 0 0 0 0 0 0 0 1 0 0 0 0 1 0 0 1 0 0 0 0 0\n",
      " 0 0 0 0 0 1 0 1 0 0 0 0 0 0 0 1 0 1 0 0 1 0 1 0 0 0 0 0 0 0 1 0 0 0 0 0 0\n",
      " 0 0 0 0 1 0]\n",
      "524    0\n",
      "673    0\n",
      "689    1\n",
      "59     0\n",
      "638    1\n",
      "      ..\n",
      "711    0\n",
      "368    0\n",
      "214    1\n",
      "744    0\n",
      "354    0\n",
      "Name: Outcome, Length: 154, dtype: int64\n"
     ]
    }
   ],
   "source": [
    "y_pred = classifier.predict(X_test)\n",
    "print(y_pred)\n",
    "print(y_test)"
   ]
  },
  {
   "cell_type": "code",
   "execution_count": 177,
   "id": "3212ca4d",
   "metadata": {},
   "outputs": [
    {
     "name": "stdout",
     "output_type": "stream",
     "text": [
      "[[89 12]\n",
      " [29 24]]\n",
      "              precision    recall  f1-score   support\n",
      "\n",
      "           0       0.75      0.88      0.81       101\n",
      "           1       0.67      0.45      0.54        53\n",
      "\n",
      "    accuracy                           0.73       154\n",
      "   macro avg       0.71      0.67      0.68       154\n",
      "weighted avg       0.72      0.73      0.72       154\n",
      "\n"
     ]
    }
   ],
   "source": [
    "#Evaluasi model\n",
    "from sklearn.metrics import classification_report, confusion_matrix\n",
    "\n",
    "print(confusion_matrix(y_test,y_pred))\n",
    "print(classification_report(y_test,y_pred))"
   ]
  },
  {
   "cell_type": "code",
   "execution_count": 178,
   "id": "8830d194",
   "metadata": {},
   "outputs": [],
   "source": [
    "#Melakukan ploting error\n",
    "error=[]\n",
    "\n",
    "for i in range(1,40):\n",
    "    knn = KNeighborsClassifier(n_neighbors=i)\n",
    "    knn.fit(X_train, y_train)\n",
    "    pred_i = knn.predict(X_test)\n",
    "    error.append(np.mean(pred_i != y_test))"
   ]
  },
  {
   "cell_type": "code",
   "execution_count": 179,
   "id": "6215e223",
   "metadata": {},
   "outputs": [
    {
     "data": {
      "text/plain": [
       "Text(0, 0.5, 'Mean Error')"
      ]
     },
     "execution_count": 179,
     "metadata": {},
     "output_type": "execute_result"
    },
    {
     "data": {
      "image/png": "[encoded data removed]",
      "text/plain": [
       "<Figure size 864x432 with 1 Axes>"
      ]
     },
     "metadata": {
      "needs_background": "light"
     },
     "output_type": "display_data"
    }
   ],
   "source": [
    "plt.figure(figsize=(12,6))\n",
    "plt.plot(range(1,40), error, color=\"red\", linestyle=\"dashed\", marker=\"o\",\n",
    "        markerfacecolor=\"blue\", markersize=10)\n",
    "plt.title(\"Error rate K value\")\n",
    "plt.xlabel(\"K Value\")\n",
    "plt.ylabel(\"Mean Error\")"
   ]
  },
  {
   "cell_type": "code",
   "execution_count": null,
   "id": "bdc67668",
   "metadata": {},
   "outputs": [],
   "source": [
    "\"\"\"\n",
    "Analisa :\n",
    "1. Import library pandas, numpy dan matplotlib, pilih dataset diabetes.csv\n",
    "2. Melakukan drop kolom Pregnancies, BloodPressure, SkinThickness, BMI\n",
    "3. Kemudian barplot outcome dengan Glucose, Insulin, DiabetesPedigreeFunction, dan Age\n",
    "4. Memisahkan X sebagai feature dan Y sebagai class, yang menjadi feature adalah Glucose, Insulin, DiabetesPedigreeFunction dan Age, menjadi class adalah Outcome\n",
    "5. Melakukan feature selection dengan metode Wrapp RFE\n",
    "6. Memisahkan data train dan test\n",
    "7. Melakukan normalisasi\n",
    "8. Setelah itu melakukan metode KNN, mengevaluasi model, sampai dengan ploating error\n",
    "\"\"\""
   ]
  }
 ],
 "metadata": {
  "kernelspec": {
   "display_name": "Python 3 (ipykernel)",
   "language": "python",
   "name": "python3"
  },
  "language_info": {
   "codemirror_mode": {
    "name": "ipython",
    "version": 3
   },
   "file_extension": ".py",
   "mimetype": "text/x-python",
   "name": "python",
   "nbconvert_exporter": "python",
   "pygments_lexer": "ipython3",
   "version": "3.9.12"
  }
 },
 "nbformat": 4,
 "nbformat_minor": 5
}
